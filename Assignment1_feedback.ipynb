{
 "cells": [
  {
   "cell_type": "markdown",
   "metadata": {},
   "source": [
    "### Score: `[107]`\n",
    "\n",
    "Q1. `[11]` Good job! \n",
    "\n",
    "Q2. `[11]` Good job! \n",
    "\n",
    "Q3. `[20]` Good job!\n",
    "\n",
    "Q4. `[28]` Good job! \n",
    "\n",
    "Q5. `[37]` Good job!"
   ]
  },
  {
   "cell_type": "markdown",
   "metadata": {},
   "source": [
    "**Collaboration:**  \n",
    "\n",
    "Collaboration on solving the assignment is allowed, after you have thought about the problem sets on your own. It is also OK to get clarification (but not solutions) from online resources, again after you have thought about the problem sets on your own. \n",
    "\n",
    "There are two requirements for collaboration: \n",
    "\n",
    "* Cite your collaborators **fully and completely** (*e.g.*, \"XXX explained to me what is asked in problem set 3\"). Or cite online resources (*e.g.*, \"I got inspired by reading XXX\") that helped you.\n",
    "\n",
    "* Write your scripts and report **independently** - the scripts and report must come from you only."
   ]
  },
  {
   "cell_type": "markdown",
   "metadata": {},
   "source": [
    "# 1. Flowchart \n",
    "\n",
    "Write a function `Print_values` with arguments `a`, `b`, and `c` to reflect the following flowchart. Here the purple parallelogram operator on a list `[x, y, z]` is to compute and print `x+y-10z`. Try your output with some random `a`, `b`, and `c` values. Report your output when `a = 10, b = 5, c = 1`."
   ]
  },
  {
   "cell_type": "code",
   "execution_count": null,
   "metadata": {},
   "outputs": [],
   "source": [
    "def Print_values(a,b,c):\n",
    "    if a > b:\n",
    "        if b > c:\n",
    "            result = a+b-10*c\n",
    "            print(result)\n",
    "        else:\n",
    "            if a > c:\n",
    "                result = a+c-10*b\n",
    "                print(result)\n",
    "            else:\n",
    "                result = c+a-10*b\n",
    "                print(result)\n",
    "    else:\n",
    "        if b > c:\n",
    "            print(\"stop\")\n",
    "        else:\n",
    "            result = c+b-10*a\n",
    "            print(result)\n",
    "\n",
    " # 测试       \n",
    "a = 10\n",
    "b = 5\n",
    "c = 1\n",
    "output = Print_values(a, b, c)  "
   ]
  },
  {
   "cell_type": "markdown",
   "metadata": {},
   "source": [
    "Report your output when `a = 10, b = 5, c = 1`: [5]"
   ]
  },
  {
   "cell_type": "markdown",
   "metadata": {},
   "source": [
    "[我根据观看b站“Python官方课程”的视频巩固知识并完成了这道题。]"
   ]
  },
  {
   "cell_type": "markdown",
   "metadata": {},
   "source": [
    "# 2. Continuous ceiling function\n",
    "\n",
    "Given a list with `N` positive integers. For every element `x` of the list, find the value of continuous ceiling function defined as `F(x) = F(ceil(x/3)) + 2x`, where `F(1) = 1`. "
   ]
  },
  {
   "cell_type": "code",
   "execution_count": 1,
   "metadata": {},
   "outputs": [
    {
     "name": "stdout",
     "output_type": "stream",
     "text": [
      "[1, 5, 7, 13, 15, 305]\n"
     ]
    }
   ],
   "source": [
    "import math  \n",
    "\n",
    "def F(x):  \n",
    "    if x==1:  \n",
    "        return 1  \n",
    "    else:  \n",
    "        return F(math.ceil(x/3))+2*x     \n",
    "    \n",
    "def continuous_ceiling_function(values):  \n",
    "    results = []  \n",
    "    for x in values:  \n",
    "        results.append(F(x))  \n",
    "    return results \n",
    "    \n",
    "# 测试\n",
    "test_values = [1, 2, 3, 4, 5, 100] \n",
    "results = continuous_ceiling_function(test_values)  \n",
    "print(results)"
   ]
  },
  {
   "attachments": {},
   "cell_type": "markdown",
   "metadata": {},
   "source": [
    "[通过CSDN博客学习了递归的概念，函数包含了对其自身的调用，该函数就是递归的。递归通常需要一个开始时使用的种子值，向函数传递参数，这个函数是非递归的，题目中的F（1）=1就是入口函数。]"
   ]
  },
  {
   "cell_type": "markdown",
   "metadata": {},
   "source": [
    "# 3. Dice rolling\n",
    "\n",
    "**3.1** Given `10` dice each with `6` faces, numbered from `1` to `6`. Write a function `Find_number_of_ways` to find the number of ways to get sum `x`, defined as the sum of values on each face when all the dice are thrown."
   ]
  },
  {
   "cell_type": "code",
   "execution_count": 2,
   "metadata": {},
   "outputs": [
    {
     "name": "stdout",
     "output_type": "stream",
     "text": [
      "得到和为 35 的方式数: 4395456\n"
     ]
    }
   ],
   "source": [
    "# def find_number_of_ways(sum_x):\n",
    "def Find_number_of_ways(num_dice, target_sum):  \n",
    "  \n",
    "    if target_sum < 0:  \n",
    "        return 0  # 如果目标和小于0，返回0  \n",
    "    if num_dice == 0:  \n",
    "        return 1 if target_sum == 0 else 0  # 如果没有骰子，只有目标和也为0时返回1  \n",
    "\n",
    "    total_ways = 0  # 初始化组合总数  \n",
    " \n",
    "    for face_value in range(1, 7):  \n",
    "        # 递归调用，尝试每个面值  \n",
    "        total_ways += Find_number_of_ways(num_dice - 1, target_sum - face_value)  \n",
    "\n",
    "    return total_ways  \n",
    "\n",
    "num_dice = 10  \n",
    "\n",
    "# 测试\n",
    "target_sum=35\n",
    "ways = Find_number_of_ways(num_dice, target_sum)  \n",
    "print(f\"得到和为 {target_sum} 的方式数: {ways}\") "
   ]
  },
  {
   "cell_type": "markdown",
   "metadata": {},
   "source": [
    "**3.2** Count the number of ways for any `x` from `10` to `60`, assign the number of ways to a list called `Number_of_ways`, so which `x` yields the maximum of `Number_of_ways`?"
   ]
  },
  {
   "cell_type": "code",
   "execution_count": 3,
   "metadata": {},
   "outputs": [
    {
     "ename": "NameError",
     "evalue": "name 'count_ways' is not defined",
     "output_type": "error",
     "traceback": [
      "\u001b[1;31m---------------------------------------------------------------------------\u001b[0m",
      "\u001b[1;31mNameError\u001b[0m                                 Traceback (most recent call last)",
      "Cell \u001b[1;32mIn[3], line 11\u001b[0m\n\u001b[0;32m      7\u001b[0m \u001b[38;5;66;03m# 计算从 10 到 60 的每个目标和的组合方式数  \u001b[39;00m\n\u001b[0;32m      8\u001b[0m \u001b[38;5;66;03m# BUG: 这里的函数名有问题，应该是 Find_number_of_ways\u001b[39;00m\n\u001b[0;32m      9\u001b[0m \u001b[38;5;66;03m# 似乎删除了draft，下次请注意细节\u001b[39;00m\n\u001b[0;32m     10\u001b[0m \u001b[38;5;28;01mfor\u001b[39;00m target_sum \u001b[38;5;129;01min\u001b[39;00m \u001b[38;5;28mrange\u001b[39m(\u001b[38;5;241m10\u001b[39m, \u001b[38;5;241m61\u001b[39m):  \n\u001b[1;32m---> 11\u001b[0m     ways \u001b[38;5;241m=\u001b[39m \u001b[43mcount_ways\u001b[49m(num_dice, target_sum)  \n\u001b[0;32m     12\u001b[0m     Number_of_ways\u001b[38;5;241m.\u001b[39mappend(ways)  \n\u001b[0;32m     14\u001b[0m \u001b[38;5;66;03m# 找到最大组合方式数及其对应的目标和  \u001b[39;00m\n",
      "\u001b[1;31mNameError\u001b[0m: name 'count_ways' is not defined"
     ]
    }
   ],
   "source": [
    "# 设置骰子的数量  \n",
    "num_dice = 10  \n",
    "\n",
    "# 初始化一个列表来存储每个目标和的组合方式数  \n",
    "Number_of_ways = []  \n",
    "\n",
    "# 计算从 10 到 60 的每个目标和的组合方式数  \n",
    "# BUG: 这里的函数名有问题，应该是 Find_number_of_ways\n",
    "# 似乎删除了draft，下次请注意细节\n",
    "for target_sum in range(10, 61):  \n",
    "    ways = count_ways(num_dice, target_sum)  \n",
    "    Number_of_ways.append(ways)  \n",
    "\n",
    "# 找到最大组合方式数及其对应的目标和  \n",
    "max_ways = max(Number_of_ways)  \n",
    "max_index = Number_of_ways.index(max_ways) + 10  # +10 是因为目标和从 10 开始  \n",
    "\n",
    "print(f\"Number_of_ways: {Number_of_ways}\")  \n",
    "print(f\"最大组合方式数: {max_ways}，对应的目标和: {max_index}\")  \n",
    "\n",
    "# print(f\"The sum that yields the maximum number of ways is {max_sum} with {max_ways} ways.\")"
   ]
  },
  {
   "cell_type": "markdown",
   "metadata": {},
   "source": [
    "So which `x` yields the maximum of `Number_of_ways`? [35] "
   ]
  },
  {
   "cell_type": "markdown",
   "metadata": {},
   "source": [
    "[这里使用了GPT厘清题目的思路。]"
   ]
  },
  {
   "cell_type": "markdown",
   "metadata": {},
   "source": [
    "# 4. Dynamic programming\n",
    "\n",
    "**4.1 [5 points]** Write a function `Random_integer` to fill an array of `N` elements by randomly selecting integers from `0` to `10`."
   ]
  },
  {
   "cell_type": "code",
   "execution_count": 1,
   "metadata": {},
   "outputs": [
    {
     "name": "stdout",
     "output_type": "stream",
     "text": [
      "随机生成的数组: [4, 10, 5, 10, 1, 5]\n"
     ]
    }
   ],
   "source": [
    "import random\n",
    "def Random_integer(N):  \n",
    "    # 生成一个包含 N 个随机整数的列表，范围从 0 到 10  \n",
    "    random_array = [random.randint(0, 10) for i in range(N)]  \n",
    "    return random_array  \n",
    "\n",
    "# 测试函数  \n",
    "N = 6  # 示例长度  \n",
    "result = Random_integer(N)  \n",
    "print(f\"随机生成的数组: {result}\")  "
   ]
  },
  {
   "cell_type": "markdown",
   "metadata": {},
   "source": [
    "**4.2 [15 points]** Write a function `Sum_averages` to compute the sum of the average of all subsets of the array. For example, given an array of `[1, 2, 3]`, you `Sum_averages` function should compute the sum of: average of `[1]`, average of `[2]`, average of `[3]`,  average of `[1, 2]`, average of `[1, 3]`, average of `[2, 3]`, and average of `[1, 2, 3]`.  "
   ]
  },
  {
   "cell_type": "code",
   "execution_count": 4,
   "metadata": {},
   "outputs": [
    {
     "name": "stdout",
     "output_type": "stream",
     "text": [
      "The sum of the averages of all subsets is: 142.6\n"
     ]
    }
   ],
   "source": [
    "from itertools import combinations\n",
    "#导入 combinations：使用 itertools.combinations 来生成所有可能的非空子集\n",
    "def Sum_averages(array):  \n",
    "    total_sum = 0  \n",
    "    n = len(array)  \n",
    "    \n",
    "    # 生成所有非空子集  \n",
    "    for i in range(1, n + 1):  \n",
    "        for subset in combinations(array, i):  \n",
    "            average = sum(subset) / len(subset)  \n",
    "            total_sum += average  \n",
    "            \n",
    "    return total_sum  \n",
    "\n",
    "# 测试  \n",
    "array = [1, 2, 6, 6, 8] \n",
    "result = Sum_averages(array)  \n",
    "print(f\"The sum of the averages of all subsets is: {result}\")  "
   ]
  },
  {
   "cell_type": "markdown",
   "metadata": {},
   "source": [
    "**4.3 [5 points]** Call `Sum_averages` with `N` increasing from `1` to `100`, assign the output to a list called `Total_sum_averages`. Plot `Total_sum_averages`, describe what you see.\n"
   ]
  },
  {
   "cell_type": "code",
   "execution_count": 3,
   "metadata": {},
   "outputs": [
    {
     "data": {
      "image/png": "[encoded data removed]",
      "text/plain": [
       "<Figure size 640x480 with 1 Axes>"
      ]
     },
     "metadata": {},
     "output_type": "display_data"
    }
   ],
   "source": [
    "import matplotlib.pyplot as plt\n",
    "import numpy as np\n",
    "\n",
    "x1 = list(range(1, 21)) \n",
    "                   \n",
    "y1 = [Sum_averages(list(range(1, i + 1))) for i in x1] \n",
    "\n",
    " # plt.plot(横坐标,纵坐标，颜色，线宽)\n",
    "plt.plot(x1, y1, label = 'l1', color = 'pink', linewidth = 1 )\n",
    "\n",
    "plt.legend() # 显示标签\n",
    "plt.title('Total_sum_averages') # 设置图片标题\n",
    "plt.xlabel(\"num\") # 横轴名字\n",
    "plt.ylabel(\"Sum_averages\") # 纵轴名字\n",
    "plt.show()"
   ]
  },
  {
   "cell_type": "markdown",
   "metadata": {},
   "source": [
    "Describe what you see. [初期增长缓慢，趋近于0，随后出现了明显的指数型上升。]"
   ]
  },
  {
   "cell_type": "markdown",
   "metadata": {},
   "source": [
    "[通过网页搜索如何得到一个集合所产生的所有非空子集，这里调用了itertools.combinations。除此之外，通过CSDN博客和林嘉意同学的帮助，我明白了4.3画图的方法。由于range（1，100）太大，电脑运行不出，以range（1，20）为例。]"
   ]
  },
  {
   "cell_type": "markdown",
   "metadata": {},
   "source": [
    "# 5. Path counting\n",
    "\n",
    "**5.1 [5 points]** Create a matrix with `N` rows and `M` columns, fill the right-bottom corner and top-left corner cells with `1`, and randomly fill the rest of matrix with integer `0` or `1`."
   ]
  },
  {
   "cell_type": "code",
   "execution_count": 5,
   "metadata": {},
   "outputs": [
    {
     "name": "stdout",
     "output_type": "stream",
     "text": [
      "[[1 0 1 0 0 1 0 1]\n",
      " [1 1 1 1 1 1 0 0]\n",
      " [1 0 1 1 0 0 0 0]\n",
      " [0 0 1 0 1 0 1 1]\n",
      " [1 1 1 0 0 0 1 0]\n",
      " [0 0 1 0 1 1 0 0]\n",
      " [0 1 0 0 0 1 0 0]\n",
      " [1 0 1 0 0 1 0 1]\n",
      " [1 1 0 0 1 1 0 1]\n",
      " [1 0 1 0 1 0 0 1]]\n"
     ]
    }
   ],
   "source": [
    "import numpy as np\n",
    "\n",
    "def create_matrix(N, M):\n",
    "    matrix = np.random.randint(2, size=(N, M))\n",
    "    matrix[0][0] = 1\n",
    "    matrix[N-1][M-1] = 1\n",
    "    \n",
    "    return matrix\n",
    "\n",
    "# 测试\n",
    "N = 10\n",
    "M = 8\n",
    "matrix = create_matrix(N, M)\n",
    "print(matrix)"
   ]
  },
  {
   "cell_type": "markdown",
   "metadata": {},
   "source": [
    "**5.2 [25 points]** Consider a cell marked with `0` as a blockage or dead-end, and a cell marked with `1` is good to go. Write a function `Count_path` to count the total number of paths to reach the right-bottom corner cell from the top-left corner cell. \n",
    "\n",
    "**Notice:** for a given cell, you are **only allowed** to move either rightward or downward."
   ]
  },
  {
   "cell_type": "code",
   "execution_count": 9,
   "metadata": {},
   "outputs": [
    {
     "name": "stdout",
     "output_type": "stream",
     "text": [
      "[[1 1 0 1 0]\n",
      " [0 1 1 1 0]\n",
      " [0 0 0 1 1]\n",
      " [1 1 1 1 1]]\n",
      "[[1 1 0 0 0]\n",
      " [0 1 1 1 0]\n",
      " [0 0 0 1 1]\n",
      " [0 0 0 1 2]]\n",
      "2\n"
     ]
    }
   ],
   "source": [
    "#5.2\n",
    "def Count_paths(matrix):\n",
    "# 计算矩阵的行数 N 和列数 M\n",
    "    N = len(matrix)\n",
    "    M = len(matrix[0])\n",
    "    \n",
    "# 创建一个与输入矩阵同样大小的二维数组dp，用于存储到达每个单元格的路径数量，初始值为0。\n",
    "    dp = np.zeros((N, M), dtype=int)\n",
    "    \n",
    "# 将起始单元格的路径数量设为1，因为从起始点到起始点只有一种方式。\n",
    "    dp[0][0] = 1\n",
    "    \n",
    "# 双重循环\n",
    "    for i in range(N):\n",
    "        for j in range(M):\n",
    "            if matrix[i][j] == 0:\n",
    "                dp[i][j] = 0       # 单元格阻塞，没有路径\n",
    "            else:\n",
    "                if i > 0:\n",
    "                    dp[i][j] += dp[i-1][j]  # 从上方单元格的路径\n",
    "                if j > 0:\n",
    "                    dp[i][j] += dp[i][j-1]  # 从左侧单元格的路径\n",
    "    print(dp)\n",
    "# 返回右下角单元格的路径数量，即从左上角到右下角的总路径数。\n",
    "    return dp[N-1][M-1]\n",
    "\n",
    "# 测试\n",
    "matrix = create_matrix(4, 5)\n",
    "print(matrix)\n",
    "total_paths = Count_paths(matrix)\n",
    "print(total_paths)"
   ]
  },
  {
   "cell_type": "markdown",
   "metadata": {},
   "source": [
    "**5.3 [5 points]** Let `N = 10, M = 8`, run `Count_path` for `1000` times, each time the matrix (except the right-bottom corner and top-left corner cells, which remain being `1`) is re-filled with integer `0` or `1` randomly, report the mean of total number of paths from the `1000` runs."
   ]
  },
  {
   "cell_type": "code",
   "execution_count": 10,
   "metadata": {},
   "outputs": [
    {
     "ename": "NameError",
     "evalue": "name 'count_paths' is not defined",
     "output_type": "error",
     "traceback": [
      "\u001b[1;31m---------------------------------------------------------------------------\u001b[0m",
      "\u001b[1;31mNameError\u001b[0m                                 Traceback (most recent call last)",
      "Cell \u001b[1;32mIn[10], line 15\u001b[0m\n\u001b[0;32m     12\u001b[0m     \u001b[38;5;28;01mreturn\u001b[39;00m mean_paths\n\u001b[0;32m     14\u001b[0m \u001b[38;5;66;03m# 测试\u001b[39;00m\n\u001b[1;32m---> 15\u001b[0m mean_paths \u001b[38;5;241m=\u001b[39m \u001b[43mrun_experiment\u001b[49m\u001b[43m(\u001b[49m\u001b[38;5;241;43m10\u001b[39;49m\u001b[43m,\u001b[49m\u001b[43m \u001b[49m\u001b[38;5;241;43m8\u001b[39;49m\u001b[43m,\u001b[49m\u001b[43m \u001b[49m\u001b[38;5;241;43m1000\u001b[39;49m\u001b[43m)\u001b[49m\n\u001b[0;32m     16\u001b[0m \u001b[38;5;28mprint\u001b[39m(mean_paths)\n",
      "Cell \u001b[1;32mIn[10], line 7\u001b[0m, in \u001b[0;36mrun_experiment\u001b[1;34m(N, M, runs)\u001b[0m\n\u001b[0;32m      5\u001b[0m     matrix \u001b[38;5;241m=\u001b[39m create_matrix(N, M)\n\u001b[0;32m      6\u001b[0m     \u001b[38;5;66;03m# BUG: 注意函数名！\u001b[39;00m\n\u001b[1;32m----> 7\u001b[0m     paths \u001b[38;5;241m=\u001b[39m \u001b[43mcount_paths\u001b[49m(matrix)\n\u001b[0;32m      8\u001b[0m     total_paths\u001b[38;5;241m.\u001b[39mappend(paths)\n\u001b[0;32m     10\u001b[0m \u001b[38;5;66;03m# Compute the mean of the total number of paths\u001b[39;00m\n",
      "\u001b[1;31mNameError\u001b[0m: name 'count_paths' is not defined"
     ]
    }
   ],
   "source": [
    "def run_experiment(N, M, runs=1000):\n",
    "    total_paths = []\n",
    "    \n",
    "    for i in range(runs):\n",
    "        matrix = create_matrix(N, M)\n",
    "        # BUG: 注意函数名！应该为 Count_paths\n",
    "        paths = count_paths(matrix)\n",
    "        total_paths.append(paths)\n",
    "    \n",
    "    # Compute the mean of the total number of paths\n",
    "    mean_paths = np.mean(total_paths)\n",
    "    return mean_paths\n",
    "\n",
    "# 测试\n",
    "mean_paths = run_experiment(10, 8, 1000)\n",
    "print(mean_paths)"
   ]
  },
  {
   "cell_type": "markdown",
   "metadata": {},
   "source": [
    "Report the mean of total number of paths from the `1000` runs. [0.416]"
   ]
  },
  {
   "cell_type": "markdown",
   "metadata": {},
   "source": [
    "[通过GPT和何兆轩同学（非本班）的帮助，厘清了5.2题和5.3题解决问题的思路。]"
   ]
  }
 ],
 "metadata": {
  "kernelspec": {
   "display_name": "ese5023",
   "language": "python",
   "name": "python3"
  },
  "language_info": {
   "codemirror_mode": {
    "name": "ipython",
    "version": 3
   },
   "file_extension": ".py",
   "mimetype": "text/x-python",
   "name": "python",
   "nbconvert_exporter": "python",
   "pygments_lexer": "ipython3",
   "version": "3.11.0"
  }
 },
 "nbformat": 4,
 "nbformat_minor": 4
}
